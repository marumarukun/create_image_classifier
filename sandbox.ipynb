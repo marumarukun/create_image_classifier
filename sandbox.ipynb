{
 "cells": [
  {
   "cell_type": "code",
   "execution_count": 17,
   "metadata": {},
   "outputs": [
    {
     "name": "stderr",
     "output_type": "stream",
     "text": [
      "\u001b[0;93m2024-04-02 07:52:58.988551 [W:onnxruntime:, coreml_execution_provider.cc:81 GetCapability] CoreMLExecutionProvider::GetCapability, number of partitions supported by CoreML: 29 number of nodes in the graph: 141 number of nodes supported by CoreML: 113\u001b[m\n"
     ]
    },
    {
     "name": "stdout",
     "output_type": "stream",
     "text": [
      "Accuracy: 0.13\n"
     ]
    }
   ],
   "source": [
    "import os\n",
    "\n",
    "from tqdm import tqdm\n",
    "from PIL import Image\n",
    "import numpy as np\n",
    "import onnxruntime as ort\n",
    "from onnxruntime import InferenceSession\n",
    "\n",
    "def preprocess_image(image_path):\n",
    "    img = Image.open(image_path).convert(\"RGB\")\n",
    "    img = img.resize((224, 224))\n",
    "    img = np.array(img).transpose(2, 0, 1)\n",
    "    return img\n",
    "\n",
    "# モデルの読み込み\n",
    "providers = ort.get_available_providers()\n",
    "session = InferenceSession(\"onnx/mobilenetv3.onnx\", providers=providers)\n",
    "\n",
    "# 画像のパスとラベルを取得\n",
    "image_paths = []\n",
    "labels = []\n",
    "for label, folder in enumerate([\"data/val/helmet\", \"data/val/head\"]):\n",
    "    for file in os.listdir(folder):\n",
    "        if file.endswith(\".jpg\") or file.endswith(\".png\"):\n",
    "            image_paths.append(os.path.join(folder, file))\n",
    "            labels.append(label)\n",
    "\n",
    "# バッチサイズの設定\n",
    "batch_size = 64\n",
    "\n",
    "# 画像の前処理とバッチ処理\n",
    "correct = 0\n",
    "for i in (range(0, len(image_paths), batch_size)):\n",
    "    batch_paths = image_paths[i:i+batch_size]\n",
    "    batch_labels = labels[i:i+batch_size]\n",
    "    \n",
    "    batch_images = []\n",
    "    for path in batch_paths:\n",
    "        img = preprocess_image(path)\n",
    "        batch_images.append(img)\n",
    "    \n",
    "    batch_images = np.array(batch_images)\n",
    "    \n",
    "    outputs = session.run(None, {\"input\": batch_images.astype(np.float32)})\n",
    "    predicted_labels = np.argmax(outputs[0], axis=1)\n",
    "    # print('headの数', predicted_labels.sum())\n",
    "    \n",
    "    correct += np.sum(predicted_labels == batch_labels)\n",
    "    # print(f\"Accuracy: {correct / len(image_paths):.2f}\")\n",
    "    # print(np.sum(predicted_labels == batch_labels))\n",
    "    # break\n",
    "\n",
    "# accuracyの計算と表示\n",
    "accuracy = correct / len(image_paths)\n",
    "print(f\"Accuracy: {accuracy:.2f}\")\n"
   ]
  },
  {
   "cell_type": "code",
   "execution_count": 19,
   "metadata": {},
   "outputs": [
    {
     "name": "stderr",
     "output_type": "stream",
     "text": [
      "\u001b[0;93m2024-04-02 08:36:33.328123 [W:onnxruntime:, coreml_execution_provider.cc:81 GetCapability] CoreMLExecutionProvider::GetCapability, number of partitions supported by CoreML: 29 number of nodes in the graph: 141 number of nodes supported by CoreML: 113\u001b[m\n",
      "100%|██████████| 394/394 [01:33<00:00,  4.22it/s]"
     ]
    },
    {
     "name": "stdout",
     "output_type": "stream",
     "text": [
      "Confusion Matrix:\n",
      "[[ 1377   323]\n",
      " [21499  1992]]\n",
      "Accuracy: 0.00\n"
     ]
    },
    {
     "name": "stderr",
     "output_type": "stream",
     "text": [
      "\n"
     ]
    }
   ],
   "source": [
    "import os\n",
    "from tqdm import tqdm\n",
    "from PIL import Image\n",
    "import numpy as np\n",
    "import onnxruntime as ort\n",
    "from onnxruntime import InferenceSession\n",
    "from sklearn.metrics import confusion_matrix\n",
    "\n",
    "def preprocess_image(image_path):\n",
    "    img = Image.open(image_path).convert(\"RGB\")\n",
    "    img = img.resize((224, 224))\n",
    "    img = np.array(img).transpose(2, 0, 1)\n",
    "    return img\n",
    "\n",
    "# モデルの読み込み\n",
    "providers = ort.get_available_providers()\n",
    "session = InferenceSession(\"onnx/mobilenetv3.onnx\", providers=providers)\n",
    "\n",
    "# 画像のパスとラベルを取得\n",
    "image_paths = []\n",
    "labels = []\n",
    "for label, folder in enumerate([\"data/val/helmet\", \"data/val/head\"]):\n",
    "    for file in os.listdir(folder):\n",
    "        if file.endswith(\".jpg\") or file.endswith(\".png\"):\n",
    "            image_paths.append(os.path.join(folder, file))\n",
    "            labels.append(label)\n",
    "\n",
    "# バッチサイズの設定\n",
    "batch_size = 64\n",
    "\n",
    "# 画像の前処理とバッチ処理\n",
    "predicted_labels_all = []\n",
    "for i in tqdm(range(0, len(image_paths), batch_size)):\n",
    "    batch_paths = image_paths[i:i+batch_size]\n",
    "    batch_labels = labels[i:i+batch_size]\n",
    "    \n",
    "    batch_images = []\n",
    "    for path in batch_paths:\n",
    "        img = preprocess_image(path)\n",
    "        batch_images.append(img)\n",
    "    \n",
    "    batch_images = np.array(batch_images)\n",
    "    \n",
    "    outputs = session.run(None, {\"input\": batch_images.astype(np.float32)})\n",
    "    predicted_labels = np.argmax(outputs[0], axis=1)\n",
    "    \n",
    "    predicted_labels_all.extend(predicted_labels)\n",
    "\n",
    "# 混同行列の計算と表示\n",
    "cm = confusion_matrix(labels, predicted_labels_all)\n",
    "print(\"Confusion Matrix:\")\n",
    "print(cm)\n",
    "\n",
    "# accuracyの計算と表示\n",
    "accuracy = np.sum(predicted_labels_all == labels) / len(image_paths)\n",
    "print(f\"Accuracy: {accuracy:.2f}\")\n"
   ]
  },
  {
   "cell_type": "code",
   "execution_count": 1,
   "metadata": {},
   "outputs": [
    {
     "ename": "NameError",
     "evalue": "name 'labels' is not defined",
     "output_type": "error",
     "traceback": [
      "\u001b[0;31m---------------------------------------------------------------------------\u001b[0m",
      "\u001b[0;31mNameError\u001b[0m                                 Traceback (most recent call last)",
      "Cell \u001b[0;32mIn[1], line 17\u001b[0m\n\u001b[1;32m     14\u001b[0m     plt\u001b[38;5;241m.\u001b[39mtight_layout()\n\u001b[1;32m     15\u001b[0m     plt\u001b[38;5;241m.\u001b[39mshow()\n\u001b[0;32m---> 17\u001b[0m print_cmx(\u001b[43mlabels\u001b[49m, predicted_labels_all, [\u001b[38;5;124m'\u001b[39m\u001b[38;5;124mHelmet\u001b[39m\u001b[38;5;124m'\u001b[39m, \u001b[38;5;124m'\u001b[39m\u001b[38;5;124mHead\u001b[39m\u001b[38;5;124m'\u001b[39m])\n",
      "\u001b[0;31mNameError\u001b[0m: name 'labels' is not defined"
     ]
    }
   ],
   "source": [
    "import seaborn as sns\n",
    "import matplotlib.pyplot as plt\n",
    "\n",
    "def print_cmx(y_true, y_pred, labels):\n",
    "    # 混同行列の計算と表示\n",
    "    cm = confusion_matrix(y_true, y_pred)\n",
    "    # ヒートマップとして混同行列を図示\n",
    "    sns.heatmap(cm, annot=True, cmap='Blues', fmt='d', cbar=False, \n",
    "                xticklabels=labels, yticklabels=labels)\n",
    "    plt.xlabel('Predicted Labels')\n",
    "    plt.ylabel('True Labels')\n",
    "    plt.title('Confusion Matrix')\n",
    "    plt.tight_layout()\n",
    "    plt.show()\n",
    "    \n",
    "print_cmx(labels, predicted_labels_all, ['Helmet', 'Head'])\n"
   ]
  },
  {
   "cell_type": "code",
   "execution_count": 21,
   "metadata": {},
   "outputs": [
    {
     "name": "stdout",
     "output_type": "stream",
     "text": [
      "Confusion Matrix:\n",
      "[[ 1377   323]\n",
      " [21499  1992]]\n"
     ]
    },
    {
     "data": {
      "image/png": "[encoded data removed]",
      "text/plain": [
       "<Figure size 800x600 with 1 Axes>"
      ]
     },
     "metadata": {},
     "output_type": "display_data"
    },
    {
     "name": "stdout",
     "output_type": "stream",
     "text": [
      "Accuracy: 0.00\n"
     ]
    }
   ],
   "source": [
    "import seaborn as sns\n",
    "import matplotlib.pyplot as plt\n",
    "\n",
    "# 混同行列の計算と表示\n",
    "cm = confusion_matrix(labels, predicted_labels_all)\n",
    "print(\"Confusion Matrix:\")\n",
    "print(cm)\n",
    "\n",
    "# ヒートマップとして混同行列を図示\n",
    "plt.figure(figsize=(8, 6))\n",
    "sns.heatmap(cm, annot=True, cmap='Blues', fmt='d', cbar=False, \n",
    "            xticklabels=['Helmet', 'Head'], yticklabels=['Helmet', 'Head'])\n",
    "plt.xlabel('Predicted Labels')\n",
    "plt.ylabel('True Labels')\n",
    "plt.title('Confusion Matrix')\n",
    "plt.tight_layout()\n",
    "plt.show()\n",
    "\n",
    "# accuracyの計算と表示\n",
    "accuracy = np.sum(predicted_labels_all == labels) / len(image_paths)\n",
    "print(f\"Accuracy: {accuracy:.2f}\")\n"
   ]
  }
 ],
 "metadata": {
  "kernelspec": {
   "display_name": ".venv",
   "language": "python",
   "name": "python3"
  },
  "language_info": {
   "codemirror_mode": {
    "name": "ipython",
    "version": 3
   },
   "file_extension": ".py",
   "mimetype": "text/x-python",
   "name": "python",
   "nbconvert_exporter": "python",
   "pygments_lexer": "ipython3",
   "version": "3.10.13"
  }
 },
 "nbformat": 4,
 "nbformat_minor": 2
}
